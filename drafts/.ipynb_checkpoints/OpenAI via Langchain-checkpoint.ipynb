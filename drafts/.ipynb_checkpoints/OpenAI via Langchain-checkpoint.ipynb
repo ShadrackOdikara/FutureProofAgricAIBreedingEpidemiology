{
 "cells": [
  {
   "cell_type": "code",
   "execution_count": 18,
   "id": "78eecf0b-4c38-4765-8eba-6b3b8656796a",
   "metadata": {},
   "outputs": [],
   "source": [
    "import pandas as pd\n",
    "import numpy as np\n",
    "import openai\n",
    "from openai import OpenAI\n",
    "import langchain\n",
    "import json"
   ]
  },
  {
   "cell_type": "code",
   "execution_count": 4,
   "id": "b4d09e35-f104-401e-a0ca-6cccd969496f",
   "metadata": {},
   "outputs": [],
   "source": [
    "report_description = \"The United nation produces annual report that gives a brief description of the progress of implemented projects and the current progress towards achieving globalsustainable development goals and projevt objectives, these project objectives are end hunger, end poverty, increase yield, eliminate crop disease\""
   ]
  },
  {
   "cell_type": "code",
   "execution_count": null,
   "id": "7c30985c-0016-4e79-a4af-f1e4db0cba69",
   "metadata": {},
   "outputs": [],
   "source": []
  },
  {
   "cell_type": "code",
   "execution_count": 13,
   "id": "a14bc8c0-43e0-4b39-9c1d-c81b1bc516c9",
   "metadata": {},
   "outputs": [
    {
     "data": {
      "text/plain": [
       "'The United nation produces annual report that gives a brief description of the progress of implemented projects and the current progress towards achieving globalsustainable development goals and projevt objectives, these project objectives are end hunger, end poverty, increase yield, eliminate crop disease'"
      ]
     },
     "execution_count": 13,
     "metadata": {},
     "output_type": "execute_result"
    }
   ],
   "source": [
    "report_description"
   ]
  },
  {
   "cell_type": "code",
   "execution_count": 14,
   "id": "fc14b79e-5591-4400-8674-ad2fd06ca292",
   "metadata": {},
   "outputs": [],
   "source": [
    "prompt = f'''\n",
    "Please extract the following information from the given text and return it as a JSON object:\n",
    "\n",
    "objective\n",
    "goal\n",
    "progress\n",
    "achieve\n",
    "\n",
    "This is the body of text to extract the information from\n",
    "{report_description}'''"
   ]
  },
  {
   "cell_type": "code",
   "execution_count": 15,
   "id": "4e0fc39a-32d4-44eb-978a-d118b32ee929",
   "metadata": {},
   "outputs": [
    {
     "data": {
      "text/plain": [
       "'\\nPlease extract the following information from the given text and return it as a JSON object:\\n\\nobjective\\ngoal\\nprogress\\nachieve\\n\\nThis is the body of text to extract the information from\\nThe United nation produces annual report that gives a brief description of the progress of implemented projects and the current progress towards achieving globalsustainable development goals and projevt objectives, these project objectives are end hunger, end poverty, increase yield, eliminate crop disease'"
      ]
     },
     "execution_count": 15,
     "metadata": {},
     "output_type": "execute_result"
    }
   ],
   "source": [
    "prompt"
   ]
  },
  {
   "cell_type": "code",
   "execution_count": 17,
   "id": "c5873259-c1c9-42bb-84fc-66bdfea00f55",
   "metadata": {},
   "outputs": [
    {
     "ename": "NameError",
     "evalue": "name 'mykey' is not defined",
     "output_type": "error",
     "traceback": [
      "\u001b[0;31m---------------------------------------------------------------------------\u001b[0m",
      "\u001b[0;31mNameError\u001b[0m                                 Traceback (most recent call last)",
      "Cell \u001b[0;32mIn[17], line 1\u001b[0m\n\u001b[0;32m----> 1\u001b[0m client\u001b[38;5;241m=\u001b[39mOpenAI(api_key\u001b[38;5;241m=\u001b[39m\u001b[43mmykey\u001b[49m)\n",
      "\u001b[0;31mNameError\u001b[0m: name 'mykey' is not defined"
     ]
    }
   ],
   "source": [
    "client=OpenAI(api_key=mykey)"
   ]
  },
  {
   "cell_type": "code",
   "execution_count": null,
   "id": "22310539-4c82-40e3-997b-ec8f5cde0167",
   "metadata": {},
   "outputs": [],
   "source": [
    "response = client.chat.completion.create(\n",
    "    model=\"gpt-3.5-turbo\",\n",
    "    messages=[\n",
    "        {\n",
    "            \"role\": \"user\",\n",
    "            \"content\": prompt\n",
    "        }\n",
    "    ]\n",
    ")"
   ]
  },
  {
   "cell_type": "code",
   "execution_count": null,
   "id": "6f05e712-d2d3-4088-83f6-9d8f169f2ba6",
   "metadata": {},
   "outputs": [],
   "source": [
    "response"
   ]
  },
  {
   "cell_type": "code",
   "execution_count": null,
   "id": "f8fbb7f6-5d83-418e-9ba6-62242f63017d",
   "metadata": {},
   "outputs": [],
   "source": [
    "output = response.choices[0].message.content"
   ]
  },
  {
   "cell_type": "code",
   "execution_count": null,
   "id": "f67462de-3052-43ee-a479-58c15858ed5a",
   "metadata": {},
   "outputs": [],
   "source": [
    "json.loads(output)"
   ]
  },
  {
   "cell_type": "code",
   "execution_count": null,
   "id": "06c72063-9b8c-41b6-9835-43555cbe37c7",
   "metadata": {},
   "outputs": [],
   "source": [
    "report_custom_function = [\n",
    "    {\n",
    "        'name': 'extract_report_info',\n",
    "        'description': 'Get the report information from the body of the input text',\n",
    "        'parameters': {'type': 'object','properties': {\n",
    "            'Objective': {'type': 'string',\n",
    "                     'description': 'Objective of the project'},\n",
    "            'Region': {'type': 'string',\n",
    "                        'descrition': 'The region where project was implemented,'\n",
    "                       },\n",
    "            'Output': {'type': 'integer',\n",
    "                       'description': 'Number of outputs towards the overall objective.'\n",
    "                      },\n",
    "            'Outcome': {'type': 'string',\n",
    "                     'description': 'college club for extracurricular activities.'\n",
    "                    }\n",
    "        }\n",
    "                      }\n",
    "    }\n",
    "]\n"
   ]
  },
  {
   "cell_type": "code",
   "execution_count": null,
   "id": "c0ef99d4-1d36-4af3-911e-b6ea9b0d83b0",
   "metadata": {},
   "outputs": [],
   "source": [
    "response2 = client.chat.completion.create(\n",
    "    model=\"gpt-3.5-turbo\", messages=[{\"role\": \"user\",\"content\": prompt}],\n",
    "    function= report_custom_function\n",
    ")"
   ]
  },
  {
   "cell_type": "code",
   "execution_count": null,
   "id": "6340b2ab-561c-4b24-9f6c-8a41a83cea9a",
   "metadata": {},
   "outputs": [],
   "source": [
    "json.loads(response2.choices[0].message.function_call.arguments)"
   ]
  },
  {
   "cell_type": "code",
   "execution_count": 19,
   "id": "057222c9-824e-4b1e-a29b-f29489aa06ec",
   "metadata": {},
   "outputs": [],
   "source": [
    "from langchain.chains import LLMChain"
   ]
  },
  {
   "cell_type": "code",
   "execution_count": null,
   "id": "02abcbc2-5d32-4d47-9105-25dad79dba73",
   "metadata": {},
   "outputs": [],
   "source": [
    "LLMChain()"
   ]
  }
 ],
 "metadata": {
  "kernelspec": {
   "display_name": "Python 3 (ipykernel)",
   "language": "python",
   "name": "python3"
  },
  "language_info": {
   "codemirror_mode": {
    "name": "ipython",
    "version": 3
   },
   "file_extension": ".py",
   "mimetype": "text/x-python",
   "name": "python",
   "nbconvert_exporter": "python",
   "pygments_lexer": "ipython3",
   "version": "3.11.5"
  }
 },
 "nbformat": 4,
 "nbformat_minor": 5
}
